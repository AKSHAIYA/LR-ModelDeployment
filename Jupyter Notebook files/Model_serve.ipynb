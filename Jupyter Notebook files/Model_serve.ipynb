{
 "cells": [
  {
   "cell_type": "code",
   "execution_count": 4,
   "id": "5c243848",
   "metadata": {},
   "outputs": [],
   "source": [
    "import joblib\n",
    "import pandas as pd"
   ]
  },
  {
   "cell_type": "code",
   "execution_count": 5,
   "id": "a0ca57e0",
   "metadata": {},
   "outputs": [],
   "source": [
    "model = joblib.load(\"pipe.pkl\")"
   ]
  },
  {
   "cell_type": "code",
   "execution_count": 6,
   "id": "0bf56ad2",
   "metadata": {},
   "outputs": [
    {
     "data": {
      "text/plain": [
       "Pipeline(steps=[('preprocess',\n",
       "                 ColumnTransformer(transformers=[('cat',\n",
       "                                                  Pipeline(steps=[('encode',\n",
       "                                                                   OrdinalEncoder())]),\n",
       "                                                  Index(['Item_Type', 'Outlet_Type'], dtype='object')),\n",
       "                                                 ('num',\n",
       "                                                  Pipeline(steps=[('impute',\n",
       "                                                                   SimpleImputer()),\n",
       "                                                                  ('scale',\n",
       "                                                                   StandardScaler())]),\n",
       "                                                  Index(['Item_MRP'], dtype='object'))])),\n",
       "                ('LinearRegression', LinearRegression())])"
      ]
     },
     "execution_count": 6,
     "metadata": {},
     "output_type": "execute_result"
    }
   ],
   "source": [
    "model"
   ]
  },
  {
   "cell_type": "code",
   "execution_count": 14,
   "id": "372d2a59",
   "metadata": {},
   "outputs": [],
   "source": [
    "test = {\"Item_Type\":\"Dairy\",\"Outlet_Type\" : \"Supermarket Type2\",\"Item_MRP\": 400}"
   ]
  },
  {
   "cell_type": "code",
   "execution_count": 17,
   "id": "d13a7e7b",
   "metadata": {},
   "outputs": [],
   "source": [
    "test_df = pd.DataFrame([test])"
   ]
  },
  {
   "cell_type": "code",
   "execution_count": 18,
   "id": "831a2baf",
   "metadata": {},
   "outputs": [
    {
     "data": {
      "text/plain": [
       "array([6908.62938951])"
      ]
     },
     "execution_count": 18,
     "metadata": {},
     "output_type": "execute_result"
    }
   ],
   "source": [
    "model.predict(test_df)"
   ]
  },
  {
   "cell_type": "code",
   "execution_count": null,
   "id": "4bb5b5b0",
   "metadata": {},
   "outputs": [],
   "source": []
  }
 ],
 "metadata": {
  "kernelspec": {
   "display_name": "Python 3",
   "language": "python",
   "name": "python3"
  },
  "language_info": {
   "codemirror_mode": {
    "name": "ipython",
    "version": 3
   },
   "file_extension": ".py",
   "mimetype": "text/x-python",
   "name": "python",
   "nbconvert_exporter": "python",
   "pygments_lexer": "ipython3",
   "version": "3.8.8"
  }
 },
 "nbformat": 4,
 "nbformat_minor": 5
}
